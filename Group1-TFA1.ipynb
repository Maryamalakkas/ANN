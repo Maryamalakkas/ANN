{
 "cells": [
  {
   "cell_type": "code",
   "execution_count": 1,
   "metadata": {},
   "outputs": [],
   "source": [
    "import numpy as np"
   ]
  },
  {
   "cell_type": "code",
   "execution_count": 2,
   "metadata": {},
   "outputs": [],
   "source": [
    "# creating nerual netwrok class\n",
    "class NeuralNetwork():\n",
    "    def __init__(self) :\n",
    "        np.random.seed(1)\n",
    "        self.synaptic_weights = 2 * np.random.random((3, 1)) - 1\n",
    "\n",
    "\n",
    "        # creating sigmoid function\n",
    "\n",
    "    def sigmoid(self,x):\n",
    "        z = 1/(1 + np.exp(-x))\n",
    "        return z\n",
    "    \n",
    "    def sigmoid_derivative(self,x):\n",
    "         y = x * (1-x)\n",
    "         return y\n",
    "    \n",
    "\n",
    "    def train(self, training_inputs,training_outputs,training_iterations):\n",
    "        for i in range(training_iterations):\n",
    "            output=self.think(training_inputs)\n",
    "            error= training_outputs-output\n",
    "\n",
    "            adjustments = np.dot(\n",
    "            training_inputs.T,\n",
    "            error * self.sigmoid_derivative(output))\n",
    "            self.synaptic_weights += adjustments\n",
    "\n",
    "    def think(self,inputs):\n",
    "        inputs = inputs.astype(float)\n",
    "        output = self.sigmoid(\n",
    "        np.dot(inputs, self.synaptic_weights))\n",
    "        return output"
   ]
  },
  {
   "cell_type": "code",
   "execution_count": 4,
   "metadata": {},
   "outputs": [
    {
     "name": "stdout",
     "output_type": "stream",
     "text": [
      "Random starting synaptic weights: \n",
      "[[-0.16595599]\n",
      " [ 0.44064899]\n",
      " [-0.99977125]]\n",
      "----------------------------------\n",
      "Synaptic weights after training: \n",
      "[[ 9.67299303]\n",
      " [-0.2078435 ]\n",
      " [-4.62963669]]\n",
      "----------------------------------\n",
      "Input 1: 0\n",
      "Input 2: 0\n",
      "Input 3: 0\n",
      "----------------------------------\n",
      "New situation: input data =  0 0 0\n",
      "----------------------------------\n",
      "Output data: \n",
      "[0.5]\n",
      "the output is less than 0.5 >> 0\n"
     ]
    }
   ],
   "source": [
    "neural_network = NeuralNetwork()\n",
    "\n",
    "print(\"Random starting synaptic weights: \")\n",
    "print(neural_network.synaptic_weights)\n",
    "print(\"----------------------------------\")\n",
    "\n",
    "training_inputs = np.array([[0,0,1],\n",
    "   [1,1,1],\n",
    "   [1,0,1],\n",
    "   [0,1,1]])\n",
    "\n",
    "\n",
    "training_set_outputs = np.array([[0,1,1,0]]).T\n",
    "\n",
    "\n",
    "neural_network.train(\n",
    "training_inputs, training_set_outputs, 10000)\n",
    "\n",
    "\n",
    "\n",
    "print(\"Synaptic weights after training: \")\n",
    "print(neural_network.synaptic_weights)\n",
    "print(\"----------------------------------\")\n",
    "\n",
    "\n",
    "A = str(input(\"Input 1: \"))\n",
    "B = str(input(\"Input 2: \"))\n",
    "C = str(input(\"Input 3: \"))\n",
    "\n",
    "print(\"----------------------------------\")\n",
    "\n",
    "print(\"New situation: input data = \", A, B, C)\n",
    "print(\"----------------------------------\")\n",
    "output=neural_network.think(np.array([A, B, C]))\n",
    "print(\"Output data: \")\n",
    "print(output)\n",
    "if output>.5:\n",
    "    print('the output is greater than 0.5 >> 1')\n",
    "elif output<=.5:\n",
    "    print('the output is less than 0.5 >> 0')\n"
   ]
  }
 ],
 "metadata": {
  "kernelspec": {
   "display_name": "Python 3 (ipykernel)",
   "language": "python",
   "name": "python3"
  },
  "language_info": {
   "codemirror_mode": {
    "name": "ipython",
    "version": 3
   },
   "file_extension": ".py",
   "mimetype": "text/x-python",
   "name": "python",
   "nbconvert_exporter": "python",
   "pygments_lexer": "ipython3",
   "version": "3.9.12"
  },
  "vscode": {
   "interpreter": {
    "hash": "aee8b7b246df8f9039afb4144a1f6fd8d2ca17a180786b69acc140d282b71a49"
   }
  }
 },
 "nbformat": 4,
 "nbformat_minor": 2
}
